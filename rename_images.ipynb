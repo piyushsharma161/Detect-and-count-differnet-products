{
 "cells": [
  {
   "cell_type": "code",
   "execution_count": 5,
   "metadata": {},
   "outputs": [
    {
     "name": "stdout",
     "output_type": "stream",
     "text": [
      "Collecting Augmentor\n",
      "  Downloading Augmentor-0.2.8-py2.py3-none-any.whl (38 kB)\n",
      "Requirement already satisfied: numpy>=1.11.0 in c:\\users\\of65\\appdata\\local\\continuum\\anaconda3\\envs\\tensorflow\\lib\\site-packages (from Augmentor) (1.18.1)\n",
      "Requirement already satisfied: Pillow>=5.2.0 in c:\\users\\of65\\appdata\\local\\continuum\\anaconda3\\envs\\tensorflow\\lib\\site-packages (from Augmentor) (7.0.0)\n",
      "Requirement already satisfied: tqdm>=4.9.0 in c:\\users\\of65\\appdata\\local\\continuum\\anaconda3\\envs\\tensorflow\\lib\\site-packages (from Augmentor) (4.32.1)\n",
      "Requirement already satisfied: future>=0.16.0 in c:\\users\\of65\\appdata\\local\\continuum\\anaconda3\\envs\\tensorflow\\lib\\site-packages (from Augmentor) (0.18.2)\n",
      "Installing collected packages: Augmentor\n",
      "Successfully installed Augmentor-0.2.8\n"
     ]
    }
   ],
   "source": [
    "# !pip install Augmentor --trusted-host pypi.python.org --trusted-host files.pythonhosted.org --trusted-host pypi.org"
   ]
  },
  {
   "cell_type": "code",
   "execution_count": 6,
   "metadata": {},
   "outputs": [],
   "source": [
    "import Augmentor"
   ]
  },
  {
   "cell_type": "code",
   "execution_count": 9,
   "metadata": {},
   "outputs": [
    {
     "name": "stdout",
     "output_type": "stream",
     "text": [
      "Initialised with 240 image(s) found.\n",
      "Output directory set to pic_shelf/output."
     ]
    },
    {
     "name": "stderr",
     "output_type": "stream",
     "text": [
      "Processing <PIL.Image.Image image mode=RGB size=3264x2448 at 0x1E6646FBE80>: 100%|█| 1225/1225 [10:18<00:00,  3.11 Samples/s]                  \n"
     ]
    }
   ],
   "source": [
    "'''\n",
    "p = Augmentor.Pipeline(source_directory=\"pic_shelf/\") \n",
    "  \n",
    "# Defining augmentation parameters and generating 5 samples \n",
    "#p.flip_left_right(0.4) \n",
    "#p.flip_top_bottom(probability=0.5)\n",
    "#p.black_and_white(0.1) \n",
    "p.rotate(0.3, 10, 10) \n",
    "p.skew(0.4, 0.5) \n",
    "p.zoom(probability = 0.3, min_factor = 1.1, max_factor = 1.5) \n",
    "p.sample(1225) \n",
    "\n",
    "'''"
   ]
  },
  {
   "cell_type": "code",
   "execution_count": 9,
   "metadata": {},
   "outputs": [],
   "source": [
    "'''\n",
    "import os\n",
    "os.getcwd()\n",
    "collection = \"pic_shelf/output/\"\n",
    "for i, filename in enumerate(os.listdir(collection)):\n",
    "    os.rename(\"pic_shelf/output/\" + filename, \"pic_shelf/output/\" + str(i+252) + \".jpg\") \n",
    "'''"
   ]
  },
  {
   "cell_type": "code",
   "execution_count": null,
   "metadata": {},
   "outputs": [],
   "source": []
  }
 ],
 "metadata": {
  "kernelspec": {
   "display_name": "Python 3",
   "language": "python",
   "name": "python3"
  },
  "language_info": {
   "codemirror_mode": {
    "name": "ipython",
    "version": 3
   },
   "file_extension": ".py",
   "mimetype": "text/x-python",
   "name": "python",
   "nbconvert_exporter": "python",
   "pygments_lexer": "ipython3",
   "version": "3.6.8"
  }
 },
 "nbformat": 4,
 "nbformat_minor": 4
}
